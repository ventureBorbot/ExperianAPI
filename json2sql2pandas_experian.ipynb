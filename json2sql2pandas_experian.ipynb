{
 "cells": [
  {
   "cell_type": "code",
   "execution_count": null,
   "metadata": {},
   "outputs": [],
   "source": [
    "import json\n",
    "import pandas as pd\n",
    "import pyodbc\n",
    "import ast"
   ]
  },
  {
   "cell_type": "markdown",
   "metadata": {},
   "source": [
    "# Function(s)"
   ]
  },
  {
   "cell_type": "markdown",
   "metadata": {},
   "source": [
    "### Flatten JSON - Basement"
   ]
  },
  {
   "cell_type": "code",
   "execution_count": null,
   "metadata": {},
   "outputs": [],
   "source": [
    "def flatten_json(y):\n",
    "    out = {}\n",
    "\n",
    "    def flatten(x, name=''):\n",
    "        if type(x) is dict:\n",
    "            for a in x:\n",
    "                flatten(x[a], name + a + '_')\n",
    "        elif type(x) is list:\n",
    "            i = 0\n",
    "            for a in x:\n",
    "                flatten(a, name + str(i) + '_')\n",
    "                i += 1\n",
    "        else:\n",
    "            out[name[:-1]] = x\n",
    "\n",
    "    flatten(y)\n",
    "    return out"
   ]
  },
  {
   "cell_type": "markdown",
   "metadata": {},
   "source": [
    "# Data I/O"
   ]
  },
  {
   "cell_type": "code",
   "execution_count": null,
   "metadata": {},
   "outputs": [],
   "source": [
    "##### USED FOR TESTING\n",
    "file1 = \"C:/Users/R011846/Documents/data/experian_exp_full.txt\"\n",
    "s = open(file1, 'r').read()\n",
    "data_exp_txt = ast.literal_eval(s) # raises an exception if the input isn't a valid Python datatype"
   ]
  },
  {
   "cell_type": "code",
   "execution_count": null,
   "metadata": {},
   "outputs": [],
   "source": [
    "##### USED FOR TESTING\n",
    "filename = \"C:/Users/R011846/Documents/data/experian_full.json\"\n",
    "if filename:\n",
    "    with open(filename, 'r') as f:\n",
    "        data_tomra_json = json.load(f)"
   ]
  },
  {
   "cell_type": "markdown",
   "metadata": {},
   "source": [
    "# Experian API Query - From Erica's Work"
   ]
  },
  {
   "cell_type": "code",
   "execution_count": null,
   "metadata": {},
   "outputs": [],
   "source": [
    "# ADD EXPERIAN API QUERY"
   ]
  },
  {
   "cell_type": "markdown",
   "metadata": {},
   "source": [
    "# SQL Stuff"
   ]
  },
  {
   "cell_type": "markdown",
   "metadata": {},
   "source": [
    "### Create Connection & Cursor for Execution"
   ]
  },
  {
   "cell_type": "code",
   "execution_count": null,
   "metadata": {},
   "outputs": [],
   "source": [
    "conn = pyodbc.connect('Driver={ODBC Driver 13 for SQL Server}; Server=tcp:dbdaz001.database.windows.net,1433; Database=IADevDB1;Uid=IAUSER1;Pwd=IADBUser1$; \\\n",
    "                      Encrypt=yes;TrustServerCertificate=no;Connection Timeout=30;')"
   ]
  },
  {
   "cell_type": "code",
   "execution_count": null,
   "metadata": {},
   "outputs": [],
   "source": [
    "cursor = conn.cursor()"
   ]
  },
  {
   "cell_type": "markdown",
   "metadata": {},
   "source": [
    "### Write JSON to Experian.CustomerData ADS Table"
   ]
  },
  {
   "cell_type": "code",
   "execution_count": null,
   "metadata": {},
   "outputs": [],
   "source": [
    "cursor.execute(\"TRUNCATE TABLE [Experian].[CustomerData]\")\n",
    "# cursor.execute(\n",
    "#     \"SET IDENTITY_INSERT [Experian].[CustomerData] ON\") # Set this to populate our own values for ID; off for 1up\n",
    "conn.commit()"
   ]
  },
  {
   "cell_type": "code",
   "execution_count": null,
   "metadata": {},
   "outputs": [],
   "source": [
    "\n",
    "# cursor.execute(\"INSERT INTO [Experian].[CustomerData](ID, JSON) values (?, ?)\",int(1),str(data_exp_txt))\n",
    "# cursor.execute(\"INSERT INTO [Experian].[CustomerData](ID, JSON) values (?, ?)\",int(2),str(data_tomra_json))\n",
    "\n",
    "cursor.execute(\"INSERT INTO [Experian].[CustomerData](JSON) values (?)\",str(data_exp_txt))\n",
    "cursor.execute(\"INSERT INTO [Experian].[CustomerData](JSON) values (?)\",str(data_tomra_json))\n",
    "\n",
    "conn.commit()"
   ]
  },
  {
   "cell_type": "code",
   "execution_count": null,
   "metadata": {},
   "outputs": [],
   "source": [
    "cursor.close()"
   ]
  },
  {
   "cell_type": "markdown",
   "metadata": {},
   "source": [
    "### Read JSON from Experian.CustomerData ADS Table"
   ]
  },
  {
   "cell_type": "code",
   "execution_count": null,
   "metadata": {},
   "outputs": [],
   "source": [
    "sql_read = \"\"\"SELECT *\n",
    "         FROM [Experian].[CustomerData]\n",
    "         WHERE [ID] = 1\"\"\""
   ]
  },
  {
   "cell_type": "code",
   "execution_count": null,
   "metadata": {},
   "outputs": [],
   "source": [
    "data_jsonSTR_experian = pd.read_sql(sql_read,conn)"
   ]
  },
  {
   "cell_type": "code",
   "execution_count": null,
   "metadata": {},
   "outputs": [],
   "source": [
    "sql_read = \"\"\"SELECT *\n",
    "         FROM [Experian].[CustomerData]\n",
    "         WHERE [ID] = 2\"\"\""
   ]
  },
  {
   "cell_type": "code",
   "execution_count": null,
   "metadata": {},
   "outputs": [],
   "source": [
    "data_jsonSTR_tomra = pd.read_sql(sql_read,conn)"
   ]
  },
  {
   "cell_type": "markdown",
   "metadata": {},
   "source": [
    "### Close Connection"
   ]
  },
  {
   "cell_type": "code",
   "execution_count": null,
   "metadata": {},
   "outputs": [],
   "source": [
    "conn.close()"
   ]
  },
  {
   "cell_type": "markdown",
   "metadata": {},
   "source": [
    "# Work-Up"
   ]
  },
  {
   "cell_type": "markdown",
   "metadata": {},
   "source": [
    "### Convert jsonSTR to Dictionary"
   ]
  },
  {
   "cell_type": "code",
   "execution_count": null,
   "metadata": {
    "scrolled": true
   },
   "outputs": [],
   "source": [
    "jsonDICT_exp = ast.literal_eval(data_jsonSTR_experian.JSON[0])\n",
    "jsonDICT_tomra = ast.literal_eval(data_jsonSTR_tomra.JSON[0])\n",
    "jsonDICT_tomra"
   ]
  },
  {
   "cell_type": "code",
   "execution_count": null,
   "metadata": {},
   "outputs": [],
   "source": [
    "jsonDICT_tomra['results']['businessHeader']"
   ]
  },
  {
   "cell_type": "markdown",
   "metadata": {},
   "source": [
    "### Flatten Dictionary for Pandas/CSV"
   ]
  },
  {
   "cell_type": "code",
   "execution_count": null,
   "metadata": {},
   "outputs": [],
   "source": [
    "# Why 'earth'?  Because it's flat\n",
    "earth_exp = flatten_json(jsonDICT_exp)\n",
    "earth_tomra = flatten_json(jsonDICT_tomra)\n",
    "print('Number of Fields for Experian JSON:',len(earth_exp))\n",
    "print('Number of Fields for Tomra JSON:',len(earth_tomra))\n",
    "earth_tomra"
   ]
  },
  {
   "cell_type": "markdown",
   "metadata": {},
   "source": [
    "# Write Data to CSV"
   ]
  },
  {
   "cell_type": "code",
   "execution_count": null,
   "metadata": {
    "scrolled": false
   },
   "outputs": [],
   "source": [
    "# pd.DataFrame(\n",
    "#     [earth_exp]).to_csv(\n",
    "#     path_or_buf=\"C:/Users/R011846/Documents/Python/Scripts/sandbox/experian_json_parsing_EXPERIAN.csv\",index=False)"
   ]
  },
  {
   "cell_type": "code",
   "execution_count": null,
   "metadata": {},
   "outputs": [],
   "source": [
    "# pd.DataFrame(\n",
    "#     [earth_tomra]).to_csv(\n",
    "#     path_or_buf=\"C:/Users/R011846/Documents/Python/Scripts/sandbox/experian_json_parsing_TOMRA.csv\",index=False)"
   ]
  }
 ],
 "metadata": {
  "kernelspec": {
   "display_name": "Python 3",
   "language": "python",
   "name": "python3"
  },
  "language_info": {
   "codemirror_mode": {
    "name": "ipython",
    "version": 3
   },
   "file_extension": ".py",
   "mimetype": "text/x-python",
   "name": "python",
   "nbconvert_exporter": "python",
   "pygments_lexer": "ipython3",
   "version": "3.6.7"
  }
 },
 "nbformat": 4,
 "nbformat_minor": 2
}
